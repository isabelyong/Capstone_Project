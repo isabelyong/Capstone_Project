{
 "cells": [
  {
   "cell_type": "markdown",
   "id": "42c558c6-8df2-48e7-8583-70152dba9749",
   "metadata": {},
   "source": [
    "<p style=\"text-align:center\">\n",
    "    <a href=\"https://skills.network\" target=\"_blank\">\n",
    "    <img src=\"https://cf-courses-data.s3.us.cloud-object-storage.appdomain.cloud/assets/logos/SN_web_lightmode.png\" width=\"200\" alt=\"Skills Network Logo\">\n",
    "    </a>\n",
    "</p>\n",
    "\n",
    "<h1 align=center><font size = 5>Assignment: SQL Notebook for Peer Assignment</font></h1>\n",
    "\n",
    "Estimated time needed: **60** minutes.\n",
    "\n",
    "## Introduction\n",
    "Using this Python notebook you will:\n",
    "\n",
    "1.  Understand the Spacex DataSet\n",
    "2.  Load the dataset  into the corresponding table in a Db2 database\n",
    "3.  Execute SQL queries to answer assignment questions \n"
   ]
  },
  {
   "cell_type": "markdown",
   "id": "c0adaee7-0bf8-4097-9c25-a9e8c5ebb132",
   "metadata": {},
   "source": [
    "## Overview of the DataSet\n",
    "\n",
    "SpaceX has gained worldwide attention for a series of historic milestones. \n",
    "\n",
    "It is the only private company ever to return a spacecraft from low-earth orbit, which it first accomplished in December 2010.\n",
    "SpaceX advertises Falcon 9 rocket launches on its website with a cost of 62 million dollars wheras other providers cost upward of 165 million dollars each, much of the savings is because Space X can reuse the first stage. \n",
    "\n",
    "\n",
    "Therefore if we can determine if the first stage will land, we can determine the cost of a launch. \n",
    "\n",
    "This information can be used if an alternate company wants to bid against SpaceX for a rocket launch.\n",
    "\n",
    "This dataset includes a record for each payload carried during a SpaceX mission into outer space.\n"
   ]
  },
  {
   "cell_type": "markdown",
   "id": "412e4bcf-3d8e-4901-8477-ceecd14f8894",
   "metadata": {},
   "source": [
    "### Download the datasets\n",
    "\n",
    "This assignment requires you to load the spacex dataset.\n",
    "\n",
    "In many cases the dataset to be analyzed is available as a .CSV (comma separated values) file, perhaps on the internet. Click on the link below to download and save the dataset (.CSV file):\n",
    "\n",
    " <a href=\"https://cf-courses-data.s3.us.cloud-object-storage.appdomain.cloud/IBM-DS0321EN-SkillsNetwork/labs/module_2/data/Spacex.csv\" target=\"_blank\">Spacex DataSet</a>\n",
    "\n"
   ]
  },
  {
   "cell_type": "code",
   "execution_count": 1,
   "id": "bd0a2f98-cfcd-4877-a1f9-56fc43edee99",
   "metadata": {},
   "outputs": [
    {
     "name": "stdout",
     "output_type": "stream",
     "text": [
      "Requirement already satisfied: sqlalchemy==1.3.9 in c:\\users\\elitebook\\anaconda3\\lib\\site-packages (1.3.9)\n",
      "Note: you may need to restart the kernel to use updated packages.\n"
     ]
    }
   ],
   "source": [
    "%pip install sqlalchemy==1.3.9\n"
   ]
  },
  {
   "cell_type": "code",
   "execution_count": 1,
   "metadata": {},
   "outputs": [
    {
     "name": "stdout",
     "output_type": "stream",
     "text": [
      "Requirement already satisfied: sqlalchemy==1.3.9 in c:\\users\\elitebook\\anaconda3\\lib\\site-packages (1.3.9)\n",
      "Collecting ibm_db_sa\n",
      "  Downloading ibm_db_sa-0.4.0-py3-none-any.whl (31 kB)\n",
      "Requirement already satisfied: sqlalchemy>=0.7.3 in c:\\users\\elitebook\\anaconda3\\lib\\site-packages (from ibm_db_sa) (1.3.9)\n",
      "Collecting ibm-db>=2.0.0 (from ibm_db_sa)\n",
      "  Obtaining dependency information for ibm-db>=2.0.0 from https://files.pythonhosted.org/packages/71/72/b49b5e54e217190e6c22f8eecb8f4984923bca7d1934b14bcc3d9117b23c/ibm_db-3.2.0-cp311-cp311-win_amd64.whl.metadata\n",
      "  Downloading ibm_db-3.2.0-cp311-cp311-win_amd64.whl.metadata (1.4 kB)\n",
      "Downloading ibm_db-3.2.0-cp311-cp311-win_amd64.whl (27.7 MB)\n",
      "   ---------------------------------------- 0.0/27.7 MB ? eta -:--:--\n",
      "   ---------------------------------------- 0.2/27.7 MB 3.1 MB/s eta 0:00:10\n",
      "   ---------------------------------------- 0.3/27.7 MB 3.2 MB/s eta 0:00:09\n",
      "    --------------------------------------- 0.5/27.7 MB 3.4 MB/s eta 0:00:08\n",
      "    --------------------------------------- 0.5/27.7 MB 3.3 MB/s eta 0:00:09\n",
      "   - -------------------------------------- 1.0/27.7 MB 3.6 MB/s eta 0:00:08\n",
      "   - -------------------------------------- 1.1/27.7 MB 3.8 MB/s eta 0:00:08\n",
      "   - -------------------------------------- 1.1/27.7 MB 3.2 MB/s eta 0:00:09\n",
      "   - -------------------------------------- 1.1/27.7 MB 3.2 MB/s eta 0:00:09\n",
      "   -- ------------------------------------- 1.6/27.7 MB 3.6 MB/s eta 0:00:08\n",
      "   -- ------------------------------------- 1.9/27.7 MB 3.7 MB/s eta 0:00:07\n",
      "   --- ------------------------------------ 2.3/27.7 MB 4.0 MB/s eta 0:00:07\n",
      "   --- ------------------------------------ 2.6/27.7 MB 4.0 MB/s eta 0:00:07\n",
      "   ---- ----------------------------------- 2.8/27.7 MB 4.0 MB/s eta 0:00:07\n",
      "   ---- ----------------------------------- 3.0/27.7 MB 4.0 MB/s eta 0:00:07\n",
      "   ---- ----------------------------------- 3.3/27.7 MB 4.0 MB/s eta 0:00:07\n",
      "   ----- ---------------------------------- 3.5/27.7 MB 4.0 MB/s eta 0:00:07\n",
      "   ----- ---------------------------------- 3.7/27.7 MB 3.9 MB/s eta 0:00:07\n",
      "   ----- ---------------------------------- 4.0/27.7 MB 4.0 MB/s eta 0:00:06\n",
      "   ------ --------------------------------- 4.2/27.7 MB 3.9 MB/s eta 0:00:06\n",
      "   ------ --------------------------------- 4.4/27.7 MB 3.9 MB/s eta 0:00:06\n",
      "   ------ --------------------------------- 4.6/27.7 MB 3.9 MB/s eta 0:00:06\n",
      "   ------ --------------------------------- 4.8/27.7 MB 3.9 MB/s eta 0:00:06\n",
      "   ------- -------------------------------- 5.0/27.7 MB 3.9 MB/s eta 0:00:06\n",
      "   ------- -------------------------------- 5.3/27.7 MB 3.9 MB/s eta 0:00:06\n",
      "   ------- -------------------------------- 5.3/27.7 MB 3.9 MB/s eta 0:00:06\n",
      "   -------- ------------------------------- 5.6/27.7 MB 3.8 MB/s eta 0:00:06\n",
      "   -------- ------------------------------- 5.7/27.7 MB 3.8 MB/s eta 0:00:06\n",
      "   -------- ------------------------------- 5.9/27.7 MB 3.7 MB/s eta 0:00:06\n",
      "   -------- ------------------------------- 6.0/27.7 MB 3.7 MB/s eta 0:00:06\n",
      "   -------- ------------------------------- 6.1/27.7 MB 3.7 MB/s eta 0:00:06\n",
      "   --------- ------------------------------ 6.3/27.7 MB 3.6 MB/s eta 0:00:06\n",
      "   --------- ------------------------------ 6.5/27.7 MB 3.6 MB/s eta 0:00:06\n",
      "   --------- ------------------------------ 6.5/27.7 MB 3.5 MB/s eta 0:00:07\n",
      "   --------- ------------------------------ 6.7/27.7 MB 3.5 MB/s eta 0:00:07\n",
      "   --------- ------------------------------ 6.8/27.7 MB 3.4 MB/s eta 0:00:07\n",
      "   ---------- ----------------------------- 7.0/27.7 MB 3.5 MB/s eta 0:00:06\n",
      "   ---------- ----------------------------- 7.2/27.7 MB 3.4 MB/s eta 0:00:06\n",
      "   ---------- ----------------------------- 7.4/27.7 MB 3.5 MB/s eta 0:00:06\n",
      "   ---------- ----------------------------- 7.6/27.7 MB 3.4 MB/s eta 0:00:06\n",
      "   ----------- ---------------------------- 7.8/27.7 MB 3.5 MB/s eta 0:00:06\n",
      "   ----------- ---------------------------- 7.9/27.7 MB 3.4 MB/s eta 0:00:06\n",
      "   ----------- ---------------------------- 8.1/27.7 MB 3.4 MB/s eta 0:00:06\n",
      "   ----------- ---------------------------- 8.2/27.7 MB 3.4 MB/s eta 0:00:06\n",
      "   ------------ --------------------------- 8.4/27.7 MB 3.4 MB/s eta 0:00:06\n",
      "   ------------ --------------------------- 8.5/27.7 MB 3.4 MB/s eta 0:00:06\n",
      "   ------------ --------------------------- 8.7/27.7 MB 3.4 MB/s eta 0:00:06\n",
      "   ------------ --------------------------- 8.8/27.7 MB 3.4 MB/s eta 0:00:06\n",
      "   ------------ --------------------------- 9.0/27.7 MB 3.4 MB/s eta 0:00:06\n",
      "   ------------- -------------------------- 9.2/27.7 MB 3.4 MB/s eta 0:00:06\n",
      "   ------------- -------------------------- 9.3/27.7 MB 3.4 MB/s eta 0:00:06\n",
      "   ------------- -------------------------- 9.5/27.7 MB 3.4 MB/s eta 0:00:06\n",
      "   ------------- -------------------------- 9.6/27.7 MB 3.4 MB/s eta 0:00:06\n",
      "   -------------- ------------------------- 9.8/27.7 MB 3.4 MB/s eta 0:00:06\n",
      "   -------------- ------------------------- 10.0/27.7 MB 3.4 MB/s eta 0:00:06\n",
      "   -------------- ------------------------- 10.1/27.7 MB 3.4 MB/s eta 0:00:06\n",
      "   -------------- ------------------------- 10.4/27.7 MB 3.4 MB/s eta 0:00:06\n",
      "   --------------- ------------------------ 10.5/27.7 MB 3.4 MB/s eta 0:00:06\n",
      "   --------------- ------------------------ 10.6/27.7 MB 3.4 MB/s eta 0:00:06\n",
      "   --------------- ------------------------ 10.8/27.7 MB 3.4 MB/s eta 0:00:05\n",
      "   --------------- ------------------------ 10.9/27.7 MB 3.4 MB/s eta 0:00:05\n",
      "   --------------- ------------------------ 11.1/27.7 MB 3.4 MB/s eta 0:00:05\n",
      "   ---------------- ----------------------- 11.2/27.7 MB 3.3 MB/s eta 0:00:05\n",
      "   ---------------- ----------------------- 11.4/27.7 MB 3.4 MB/s eta 0:00:05\n",
      "   ---------------- ----------------------- 11.5/27.7 MB 3.4 MB/s eta 0:00:05\n",
      "   ----------------- ---------------------- 11.8/27.7 MB 3.3 MB/s eta 0:00:05\n",
      "   ----------------- ---------------------- 12.0/27.7 MB 3.3 MB/s eta 0:00:05\n",
      "   ----------------- ---------------------- 12.1/27.7 MB 3.3 MB/s eta 0:00:05\n",
      "   ----------------- ---------------------- 12.3/27.7 MB 3.3 MB/s eta 0:00:05\n",
      "   ----------------- ---------------------- 12.4/27.7 MB 3.3 MB/s eta 0:00:05\n",
      "   ----------------- ---------------------- 12.5/27.7 MB 3.2 MB/s eta 0:00:05\n",
      "   ------------------ --------------------- 12.6/27.7 MB 3.2 MB/s eta 0:00:05\n",
      "   ------------------ --------------------- 12.7/27.7 MB 3.2 MB/s eta 0:00:05\n",
      "   ------------------ --------------------- 12.9/27.7 MB 3.2 MB/s eta 0:00:05\n",
      "   ------------------ --------------------- 13.0/27.7 MB 3.2 MB/s eta 0:00:05\n",
      "   ------------------ --------------------- 13.1/27.7 MB 3.1 MB/s eta 0:00:05\n",
      "   ------------------- -------------------- 13.3/27.7 MB 3.1 MB/s eta 0:00:05\n",
      "   ------------------- -------------------- 13.4/27.7 MB 3.1 MB/s eta 0:00:05\n",
      "   ------------------- -------------------- 13.6/27.7 MB 3.1 MB/s eta 0:00:05\n",
      "   ------------------- -------------------- 13.7/27.7 MB 3.1 MB/s eta 0:00:05\n",
      "   -------------------- ------------------- 13.9/27.7 MB 3.1 MB/s eta 0:00:05\n",
      "   -------------------- ------------------- 14.1/27.7 MB 3.1 MB/s eta 0:00:05\n",
      "   -------------------- ------------------- 14.2/27.7 MB 3.1 MB/s eta 0:00:05\n",
      "   -------------------- ------------------- 14.3/27.7 MB 3.1 MB/s eta 0:00:05\n",
      "   -------------------- ------------------- 14.5/27.7 MB 3.1 MB/s eta 0:00:05\n",
      "   --------------------- ------------------ 14.6/27.7 MB 3.1 MB/s eta 0:00:05\n",
      "   --------------------- ------------------ 14.8/27.7 MB 3.1 MB/s eta 0:00:05\n",
      "   --------------------- ------------------ 15.0/27.7 MB 3.1 MB/s eta 0:00:05\n",
      "   --------------------- ------------------ 15.2/27.7 MB 3.1 MB/s eta 0:00:05\n",
      "   ---------------------- ----------------- 15.3/27.7 MB 3.1 MB/s eta 0:00:05\n",
      "   ---------------------- ----------------- 15.5/27.7 MB 3.1 MB/s eta 0:00:04\n",
      "   ---------------------- ----------------- 15.6/27.7 MB 3.1 MB/s eta 0:00:04\n",
      "   ---------------------- ----------------- 15.8/27.7 MB 3.1 MB/s eta 0:00:04\n",
      "   ----------------------- ---------------- 16.0/27.7 MB 3.1 MB/s eta 0:00:04\n",
      "   ----------------------- ---------------- 16.1/27.7 MB 3.1 MB/s eta 0:00:04\n",
      "   ----------------------- ---------------- 16.3/27.7 MB 3.1 MB/s eta 0:00:04\n",
      "   ----------------------- ---------------- 16.5/27.7 MB 3.2 MB/s eta 0:00:04\n",
      "   ------------------------ --------------- 16.6/27.7 MB 3.2 MB/s eta 0:00:04\n",
      "   ------------------------ --------------- 16.7/27.7 MB 3.2 MB/s eta 0:00:04\n",
      "   ------------------------ --------------- 17.0/27.7 MB 3.2 MB/s eta 0:00:04\n",
      "   ------------------------ --------------- 17.1/27.7 MB 3.2 MB/s eta 0:00:04\n",
      "   ------------------------ --------------- 17.2/27.7 MB 3.2 MB/s eta 0:00:04\n",
      "   ------------------------- -------------- 17.4/27.7 MB 3.2 MB/s eta 0:00:04\n",
      "   ------------------------- -------------- 17.4/27.7 MB 3.2 MB/s eta 0:00:04\n",
      "   ------------------------- -------------- 17.6/27.7 MB 3.2 MB/s eta 0:00:04\n",
      "   ------------------------- -------------- 17.7/27.7 MB 3.1 MB/s eta 0:00:04\n",
      "   ------------------------- -------------- 17.9/27.7 MB 3.1 MB/s eta 0:00:04\n",
      "   -------------------------- ------------- 18.1/27.7 MB 3.1 MB/s eta 0:00:04\n",
      "   -------------------------- ------------- 18.2/27.7 MB 3.1 MB/s eta 0:00:04\n",
      "   -------------------------- ------------- 18.3/27.7 MB 3.1 MB/s eta 0:00:04\n",
      "   -------------------------- ------------- 18.4/27.7 MB 3.1 MB/s eta 0:00:03\n",
      "   -------------------------- ------------- 18.6/27.7 MB 3.1 MB/s eta 0:00:03\n",
      "   --------------------------- ------------ 18.7/27.7 MB 3.1 MB/s eta 0:00:03\n",
      "   --------------------------- ------------ 18.9/27.7 MB 3.1 MB/s eta 0:00:03\n",
      "   --------------------------- ------------ 19.0/27.7 MB 3.1 MB/s eta 0:00:03\n",
      "   --------------------------- ------------ 19.1/27.7 MB 3.1 MB/s eta 0:00:03\n",
      "   --------------------------- ------------ 19.3/27.7 MB 3.1 MB/s eta 0:00:03\n",
      "   ---------------------------- ----------- 19.5/27.7 MB 3.1 MB/s eta 0:00:03\n",
      "   ---------------------------- ----------- 19.6/27.7 MB 3.1 MB/s eta 0:00:03\n",
      "   ---------------------------- ----------- 19.6/27.7 MB 3.1 MB/s eta 0:00:03\n",
      "   ---------------------------- ----------- 19.8/27.7 MB 3.1 MB/s eta 0:00:03\n",
      "   ---------------------------- ----------- 19.9/27.7 MB 3.1 MB/s eta 0:00:03\n",
      "   ---------------------------- ----------- 20.1/27.7 MB 3.1 MB/s eta 0:00:03\n",
      "   ----------------------------- ---------- 20.2/27.7 MB 3.1 MB/s eta 0:00:03\n",
      "   ----------------------------- ---------- 20.4/27.7 MB 3.1 MB/s eta 0:00:03\n",
      "   ----------------------------- ---------- 20.4/27.7 MB 3.0 MB/s eta 0:00:03\n",
      "   ----------------------------- ---------- 20.6/27.7 MB 3.0 MB/s eta 0:00:03\n",
      "   ------------------------------ --------- 20.8/27.7 MB 3.0 MB/s eta 0:00:03\n",
      "   ------------------------------ --------- 21.0/27.7 MB 3.0 MB/s eta 0:00:03\n",
      "   ------------------------------ --------- 21.1/27.7 MB 3.1 MB/s eta 0:00:03\n",
      "   ------------------------------ --------- 21.3/27.7 MB 3.1 MB/s eta 0:00:03\n",
      "   ------------------------------- -------- 21.5/27.7 MB 3.1 MB/s eta 0:00:03\n",
      "   ------------------------------- -------- 21.6/27.7 MB 3.1 MB/s eta 0:00:02\n",
      "   ------------------------------- -------- 21.8/27.7 MB 3.1 MB/s eta 0:00:02\n",
      "   ------------------------------- -------- 21.9/27.7 MB 3.1 MB/s eta 0:00:02\n",
      "   ------------------------------- -------- 22.1/27.7 MB 3.1 MB/s eta 0:00:02\n",
      "   -------------------------------- ------- 22.3/27.7 MB 3.1 MB/s eta 0:00:02\n",
      "   -------------------------------- ------- 22.4/27.7 MB 3.1 MB/s eta 0:00:02\n",
      "   -------------------------------- ------- 22.6/27.7 MB 3.1 MB/s eta 0:00:02\n",
      "   -------------------------------- ------- 22.7/27.7 MB 3.1 MB/s eta 0:00:02\n",
      "   --------------------------------- ------ 22.9/27.7 MB 3.1 MB/s eta 0:00:02\n",
      "   --------------------------------- ------ 23.0/27.7 MB 3.1 MB/s eta 0:00:02\n",
      "   --------------------------------- ------ 23.2/27.7 MB 3.1 MB/s eta 0:00:02\n",
      "   --------------------------------- ------ 23.3/27.7 MB 3.1 MB/s eta 0:00:02\n",
      "   --------------------------------- ------ 23.4/27.7 MB 3.1 MB/s eta 0:00:02\n",
      "   ---------------------------------- ----- 23.6/27.7 MB 3.1 MB/s eta 0:00:02\n",
      "   ---------------------------------- ----- 23.7/27.7 MB 3.1 MB/s eta 0:00:02\n",
      "   ---------------------------------- ----- 23.9/27.7 MB 3.1 MB/s eta 0:00:02\n",
      "   ---------------------------------- ----- 24.0/27.7 MB 3.1 MB/s eta 0:00:02\n",
      "   ---------------------------------- ----- 24.2/27.7 MB 3.1 MB/s eta 0:00:02\n",
      "   ----------------------------------- ---- 24.3/27.7 MB 3.1 MB/s eta 0:00:02\n",
      "   ----------------------------------- ---- 24.5/27.7 MB 3.1 MB/s eta 0:00:02\n",
      "   ----------------------------------- ---- 24.6/27.7 MB 3.1 MB/s eta 0:00:02\n",
      "   ----------------------------------- ---- 24.8/27.7 MB 3.1 MB/s eta 0:00:01\n",
      "   ----------------------------------- ---- 24.9/27.7 MB 3.1 MB/s eta 0:00:01\n",
      "   ------------------------------------ --- 25.1/27.7 MB 3.1 MB/s eta 0:00:01\n",
      "   ------------------------------------ --- 25.2/27.7 MB 3.1 MB/s eta 0:00:01\n",
      "   ------------------------------------ --- 25.4/27.7 MB 3.1 MB/s eta 0:00:01\n",
      "   ------------------------------------ --- 25.5/27.7 MB 3.1 MB/s eta 0:00:01\n",
      "   ------------------------------------- -- 25.7/27.7 MB 3.1 MB/s eta 0:00:01\n",
      "   ------------------------------------- -- 25.9/27.7 MB 3.1 MB/s eta 0:00:01\n",
      "   ------------------------------------- -- 26.0/27.7 MB 3.1 MB/s eta 0:00:01\n",
      "   ------------------------------------- -- 26.1/27.7 MB 3.1 MB/s eta 0:00:01\n",
      "   ------------------------------------- -- 26.2/27.7 MB 3.0 MB/s eta 0:00:01\n",
      "   -------------------------------------- - 26.4/27.7 MB 3.0 MB/s eta 0:00:01\n",
      "   -------------------------------------- - 26.6/27.7 MB 3.0 MB/s eta 0:00:01\n",
      "   -------------------------------------- - 26.7/27.7 MB 3.0 MB/s eta 0:00:01\n",
      "   -------------------------------------- - 26.9/27.7 MB 3.0 MB/s eta 0:00:01\n",
      "   ---------------------------------------  27.1/27.7 MB 3.0 MB/s eta 0:00:01\n",
      "   ---------------------------------------  27.2/27.7 MB 3.1 MB/s eta 0:00:01\n",
      "   ---------------------------------------  27.4/27.7 MB 3.1 MB/s eta 0:00:01\n",
      "   ---------------------------------------  27.6/27.7 MB 3.1 MB/s eta 0:00:01\n",
      "   ---------------------------------------  27.7/27.7 MB 3.1 MB/s eta 0:00:01\n",
      "   ---------------------------------------  27.7/27.7 MB 3.1 MB/s eta 0:00:01\n",
      "   ---------------------------------------  27.7/27.7 MB 3.1 MB/s eta 0:00:01\n",
      "   ---------------------------------------- 27.7/27.7 MB 2.9 MB/s eta 0:00:00\n",
      "Installing collected packages: ibm-db, ibm_db_sa\n",
      "Successfully installed ibm-db-3.2.0 ibm_db_sa-0.4.0\n"
     ]
    },
    {
     "name": "stdout",
     "output_type": "stream",
     "text": [
      "Collecting ipython-sql\n",
      "  Downloading ipython_sql-0.5.0-py3-none-any.whl (20 kB)\n",
      "Collecting prettytable (from ipython-sql)\n",
      "  Obtaining dependency information for prettytable from https://files.pythonhosted.org/packages/4d/81/316b6a55a0d1f327d04cc7b0ba9d04058cb62de6c3a4d4b0df280cbe3b0b/prettytable-3.9.0-py3-none-any.whl.metadata\n",
      "  Downloading prettytable-3.9.0-py3-none-any.whl.metadata (26 kB)\n",
      "Requirement already satisfied: ipython in c:\\users\\elitebook\\anaconda3\\lib\\site-packages (from ipython-sql) (8.12.0)\n",
      "Collecting sqlalchemy>=2.0 (from ipython-sql)\n",
      "  Obtaining dependency information for sqlalchemy>=2.0 from https://files.pythonhosted.org/packages/67/e7/7c77fd5290646f929b499992607cf1bc940573098a593080fcc8f7e13a08/SQLAlchemy-2.0.23-cp311-cp311-win_amd64.whl.metadata\n",
      "  Downloading SQLAlchemy-2.0.23-cp311-cp311-win_amd64.whl.metadata (9.8 kB)\n",
      "Collecting sqlparse (from ipython-sql)\n",
      "  Downloading sqlparse-0.4.4-py3-none-any.whl (41 kB)\n",
      "     ---------------------------------------- 0.0/41.2 kB ? eta -:--:--\n",
      "     ---------------------------------------- 41.2/41.2 kB 1.9 MB/s eta 0:00:00\n",
      "Requirement already satisfied: six in c:\\users\\elitebook\\anaconda3\\lib\\site-packages (from ipython-sql) (1.16.0)\n",
      "Requirement already satisfied: ipython-genutils in c:\\users\\elitebook\\anaconda3\\lib\\site-packages (from ipython-sql) (0.2.0)\n",
      "Requirement already satisfied: typing-extensions>=4.2.0 in c:\\users\\elitebook\\anaconda3\\lib\\site-packages (from sqlalchemy>=2.0->ipython-sql) (4.7.1)\n",
      "Requirement already satisfied: greenlet!=0.4.17 in c:\\users\\elitebook\\anaconda3\\lib\\site-packages (from sqlalchemy>=2.0->ipython-sql) (2.0.1)\n",
      "Requirement already satisfied: backcall in c:\\users\\elitebook\\anaconda3\\lib\\site-packages (from ipython->ipython-sql) (0.2.0)\n",
      "Requirement already satisfied: decorator in c:\\users\\elitebook\\anaconda3\\lib\\site-packages (from ipython->ipython-sql) (5.1.1)\n",
      "Requirement already satisfied: jedi>=0.16 in c:\\users\\elitebook\\anaconda3\\lib\\site-packages (from ipython->ipython-sql) (0.18.1)\n",
      "Requirement already satisfied: matplotlib-inline in c:\\users\\elitebook\\anaconda3\\lib\\site-packages (from ipython->ipython-sql) (0.1.6)\n",
      "Requirement already satisfied: pickleshare in c:\\users\\elitebook\\anaconda3\\lib\\site-packages (from ipython->ipython-sql) (0.7.5)\n",
      "Requirement already satisfied: prompt-toolkit!=3.0.37,<3.1.0,>=3.0.30 in c:\\users\\elitebook\\anaconda3\\lib\\site-packages (from ipython->ipython-sql) (3.0.36)\n",
      "Requirement already satisfied: pygments>=2.4.0 in c:\\users\\elitebook\\anaconda3\\lib\\site-packages (from ipython->ipython-sql) (2.15.1)\n",
      "Requirement already satisfied: stack-data in c:\\users\\elitebook\\anaconda3\\lib\\site-packages (from ipython->ipython-sql) (0.2.0)\n",
      "Requirement already satisfied: traitlets>=5 in c:\\users\\elitebook\\anaconda3\\lib\\site-packages (from ipython->ipython-sql) (5.7.1)\n",
      "Requirement already satisfied: colorama in c:\\users\\elitebook\\anaconda3\\lib\\site-packages (from ipython->ipython-sql) (0.4.6)\n",
      "Requirement already satisfied: wcwidth in c:\\users\\elitebook\\anaconda3\\lib\\site-packages (from prettytable->ipython-sql) (0.2.5)\n",
      "Requirement already satisfied: parso<0.9.0,>=0.8.0 in c:\\users\\elitebook\\anaconda3\\lib\\site-packages (from jedi>=0.16->ipython->ipython-sql) (0.8.3)\n",
      "Requirement already satisfied: executing in c:\\users\\elitebook\\anaconda3\\lib\\site-packages (from stack-data->ipython->ipython-sql) (0.8.3)\n",
      "Requirement already satisfied: asttokens in c:\\users\\elitebook\\anaconda3\\lib\\site-packages (from stack-data->ipython->ipython-sql) (2.0.5)\n",
      "Requirement already satisfied: pure-eval in c:\\users\\elitebook\\anaconda3\\lib\\site-packages (from stack-data->ipython->ipython-sql) (0.2.2)\n",
      "Downloading SQLAlchemy-2.0.23-cp311-cp311-win_amd64.whl (2.1 MB)\n",
      "   ---------------------------------------- 0.0/2.1 MB ? eta -:--:--\n",
      "   ---- ----------------------------------- 0.2/2.1 MB 4.6 MB/s eta 0:00:01\n",
      "   ------ --------------------------------- 0.4/2.1 MB 3.7 MB/s eta 0:00:01\n",
      "   -------- ------------------------------- 0.4/2.1 MB 3.7 MB/s eta 0:00:01\n",
      "   ------------ --------------------------- 0.7/2.1 MB 3.2 MB/s eta 0:00:01\n",
      "   ------------------ --------------------- 1.0/2.1 MB 4.0 MB/s eta 0:00:01\n",
      "   -------------------- ------------------- 1.0/2.1 MB 3.3 MB/s eta 0:00:01\n",
      "   ----------------------------- ---------- 1.5/2.1 MB 4.0 MB/s eta 0:00:01\n",
      "   ---------------------------------- ----- 1.8/2.1 MB 4.0 MB/s eta 0:00:01\n",
      "   ---------------------------------------  2.0/2.1 MB 4.0 MB/s eta 0:00:01\n",
      "   ---------------------------------------- 2.1/2.1 MB 3.7 MB/s eta 0:00:00\n",
      "Downloading prettytable-3.9.0-py3-none-any.whl (27 kB)\n",
      "Installing collected packages: sqlparse, sqlalchemy, prettytable, ipython-sql\n",
      "  Attempting uninstall: sqlalchemy\n",
      "    Found existing installation: SQLAlchemy 1.3.9\n",
      "    Uninstalling SQLAlchemy-1.3.9:\n",
      "      Successfully uninstalled SQLAlchemy-1.3.9\n",
      "Successfully installed ipython-sql-0.5.0 prettytable-3.9.0 sqlalchemy-2.0.23 sqlparse-0.4.4\n"
     ]
    }
   ],
   "source": [
    "!pip install sqlalchemy==1.3.9\n",
    "!pip install ibm_db_sa\n",
    "!pip install ipython-sql"
   ]
  },
  {
   "cell_type": "markdown",
   "id": "af93aad1-297b-49fa-934c-67d7c51eecaf",
   "metadata": {},
   "source": [
    "### Connect to the database\n",
    "\n",
    "Let us first load the SQL extension and establish a connection with the database\n"
   ]
  },
  {
   "cell_type": "code",
   "execution_count": 2,
   "id": "ed80d5df-4616-4af4-a1d3-0a381b8f965f",
   "metadata": {},
   "outputs": [],
   "source": [
    "%load_ext sql"
   ]
  },
  {
   "cell_type": "code",
   "execution_count": 3,
   "id": "04d1d884-2083-4462-a58f-98097e795acf",
   "metadata": {},
   "outputs": [],
   "source": [
    "import csv, sqlite3\n",
    "\n",
    "con = sqlite3.connect(\"my_data1.db\")\n",
    "cur = con.cursor()"
   ]
  },
  {
   "cell_type": "code",
   "execution_count": null,
   "id": "0436439c-a3ee-4975-a7dc-e3036460c661",
   "metadata": {},
   "outputs": [],
   "source": [
    "!pip install -q pandas==1.1.5"
   ]
  },
  {
   "cell_type": "code",
   "execution_count": 4,
   "id": "ae97b456-7b3e-4aaf-a49a-b13c6c2b68f7",
   "metadata": {},
   "outputs": [],
   "source": [
    "%sql sqlite:///my_data1.db"
   ]
  },
  {
   "cell_type": "code",
   "execution_count": 5,
   "id": "784b52ab-795e-459d-89a3-ceb7085e8ba6",
   "metadata": {},
   "outputs": [
    {
     "data": {
      "text/plain": [
       "101"
      ]
     },
     "execution_count": 5,
     "metadata": {},
     "output_type": "execute_result"
    }
   ],
   "source": [
    "import pandas as pd\n",
    "df = pd.read_csv(\"https://cf-courses-data.s3.us.cloud-object-storage.appdomain.cloud/IBM-DS0321EN-SkillsNetwork/labs/module_2/data/Spacex.csv\")\n",
    "df.to_sql(\"SPACEXTBL\", con, if_exists='replace', index=False,method=\"multi\")"
   ]
  },
  {
   "cell_type": "markdown",
   "id": "d89e84da-815d-4316-8030-59469c9e946a",
   "metadata": {},
   "source": [
    "**Note:This below code is added to remove blank rows from table**\n"
   ]
  },
  {
   "cell_type": "code",
   "execution_count": 6,
   "id": "14a61178-3e15-42a5-8097-9e3e7c6d1ce2",
   "metadata": {},
   "outputs": [
    {
     "name": "stdout",
     "output_type": "stream",
     "text": [
      " * sqlite:///my_data1.db\n",
      "Done.\n"
     ]
    },
    {
     "data": {
      "text/plain": [
       "[]"
      ]
     },
     "execution_count": 6,
     "metadata": {},
     "output_type": "execute_result"
    }
   ],
   "source": [
    "%sql create table SPACEXTABLE as select * from SPACEXTBL where Date is not null"
   ]
  },
  {
   "cell_type": "code",
   "execution_count": 33,
   "metadata": {},
   "outputs": [],
   "source": [
    "df = df.dropna(subset=['Date'])"
   ]
  },
  {
   "cell_type": "code",
   "execution_count": 36,
   "metadata": {},
   "outputs": [],
   "source": [
    "df['Date']=pd.to_datetime(df['Date'], format='%d/%m/%Y')"
   ]
  },
  {
   "cell_type": "markdown",
   "id": "314a2de7-1ade-44f2-b7e8-9a128b177bc3",
   "metadata": {},
   "source": [
    "## Tasks\n",
    "\n",
    "Now write and execute SQL queries to solve the assignment tasks.\n",
    "\n",
    "**Note: If the column names are in mixed case enclose it in double quotes\n",
    "   For Example \"Landing_Outcome\"**\n",
    "\n",
    "### Task 1\n",
    "\n",
    "\n",
    "\n",
    "\n",
    "##### Display the names of the unique launch sites  in the space mission\n"
   ]
  },
  {
   "cell_type": "code",
   "execution_count": 9,
   "id": "8a671aba-e605-435b-bb54-73311c9be4c1",
   "metadata": {},
   "outputs": [
    {
     "name": "stdout",
     "output_type": "stream",
     "text": [
      " * sqlite:///my_data1.db\n",
      "Done.\n"
     ]
    },
    {
     "data": {
      "text/html": [
       "<table>\n",
       "    <thead>\n",
       "        <tr>\n",
       "            <th>Launch_Site</th>\n",
       "        </tr>\n",
       "    </thead>\n",
       "    <tbody>\n",
       "        <tr>\n",
       "            <td>CCAFS LC-40</td>\n",
       "        </tr>\n",
       "        <tr>\n",
       "            <td>VAFB SLC-4E</td>\n",
       "        </tr>\n",
       "        <tr>\n",
       "            <td>KSC LC-39A</td>\n",
       "        </tr>\n",
       "        <tr>\n",
       "            <td>CCAFS SLC-40</td>\n",
       "        </tr>\n",
       "    </tbody>\n",
       "</table>"
      ],
      "text/plain": [
       "[('CCAFS LC-40',), ('VAFB SLC-4E',), ('KSC LC-39A',), ('CCAFS SLC-40',)]"
      ]
     },
     "execution_count": 9,
     "metadata": {},
     "output_type": "execute_result"
    }
   ],
   "source": [
    "%sql SELECT DISTINCT Launch_Site FROM SPACEXTABLE"
   ]
  },
  {
   "cell_type": "markdown",
   "id": "7d5275b0-77c8-4c6b-bfb7-8989ae10076c",
   "metadata": {},
   "source": [
    "\n",
    "### Task 2\n",
    "\n",
    "\n",
    "#####  Display 5 records where launch sites begin with the string 'CCA' \n"
   ]
  },
  {
   "cell_type": "code",
   "execution_count": 10,
   "id": "878490d6-2f1f-431b-94a3-3c265f66f6da",
   "metadata": {},
   "outputs": [
    {
     "name": "stdout",
     "output_type": "stream",
     "text": [
      " * sqlite:///my_data1.db\n",
      "Done.\n"
     ]
    },
    {
     "data": {
      "text/html": [
       "<table>\n",
       "    <thead>\n",
       "        <tr>\n",
       "            <th>Date</th>\n",
       "            <th>Time (UTC)</th>\n",
       "            <th>Booster_Version</th>\n",
       "            <th>Launch_Site</th>\n",
       "            <th>Payload</th>\n",
       "            <th>PAYLOAD_MASS__KG_</th>\n",
       "            <th>Orbit</th>\n",
       "            <th>Customer</th>\n",
       "            <th>Mission_Outcome</th>\n",
       "            <th>Landing_Outcome</th>\n",
       "        </tr>\n",
       "    </thead>\n",
       "    <tbody>\n",
       "        <tr>\n",
       "            <td>6/4/2010</td>\n",
       "            <td>18:45:00</td>\n",
       "            <td>F9 v1.0  B0003</td>\n",
       "            <td>CCAFS LC-40</td>\n",
       "            <td>Dragon Spacecraft Qualification Unit</td>\n",
       "            <td>0</td>\n",
       "            <td>LEO</td>\n",
       "            <td>SpaceX</td>\n",
       "            <td>Success</td>\n",
       "            <td>Failure (parachute)</td>\n",
       "        </tr>\n",
       "        <tr>\n",
       "            <td>12/8/2010</td>\n",
       "            <td>15:43:00</td>\n",
       "            <td>F9 v1.0  B0004</td>\n",
       "            <td>CCAFS LC-40</td>\n",
       "            <td>Dragon demo flight C1, two CubeSats, barrel of Brouere cheese</td>\n",
       "            <td>0</td>\n",
       "            <td>LEO (ISS)</td>\n",
       "            <td>NASA (COTS) NRO</td>\n",
       "            <td>Success</td>\n",
       "            <td>Failure (parachute)</td>\n",
       "        </tr>\n",
       "        <tr>\n",
       "            <td>22/05/2012</td>\n",
       "            <td>7:44:00</td>\n",
       "            <td>F9 v1.0  B0005</td>\n",
       "            <td>CCAFS LC-40</td>\n",
       "            <td>Dragon demo flight C2</td>\n",
       "            <td>525</td>\n",
       "            <td>LEO (ISS)</td>\n",
       "            <td>NASA (COTS)</td>\n",
       "            <td>Success</td>\n",
       "            <td>No attempt</td>\n",
       "        </tr>\n",
       "        <tr>\n",
       "            <td>10/8/2012</td>\n",
       "            <td>0:35:00</td>\n",
       "            <td>F9 v1.0  B0006</td>\n",
       "            <td>CCAFS LC-40</td>\n",
       "            <td>SpaceX CRS-1</td>\n",
       "            <td>500</td>\n",
       "            <td>LEO (ISS)</td>\n",
       "            <td>NASA (CRS)</td>\n",
       "            <td>Success</td>\n",
       "            <td>No attempt</td>\n",
       "        </tr>\n",
       "        <tr>\n",
       "            <td>3/1/2013</td>\n",
       "            <td>15:10:00</td>\n",
       "            <td>F9 v1.0  B0007</td>\n",
       "            <td>CCAFS LC-40</td>\n",
       "            <td>SpaceX CRS-2</td>\n",
       "            <td>677</td>\n",
       "            <td>LEO (ISS)</td>\n",
       "            <td>NASA (CRS)</td>\n",
       "            <td>Success</td>\n",
       "            <td>No attempt</td>\n",
       "        </tr>\n",
       "    </tbody>\n",
       "</table>"
      ],
      "text/plain": [
       "[('6/4/2010', '18:45:00', 'F9 v1.0  B0003', 'CCAFS LC-40', 'Dragon Spacecraft Qualification Unit', 0, 'LEO', 'SpaceX', 'Success', 'Failure (parachute)'),\n",
       " ('12/8/2010', '15:43:00', 'F9 v1.0  B0004', 'CCAFS LC-40', 'Dragon demo flight C1, two CubeSats, barrel of Brouere cheese', 0, 'LEO (ISS)', 'NASA (COTS) NRO', 'Success', 'Failure (parachute)'),\n",
       " ('22/05/2012', '7:44:00', 'F9 v1.0  B0005', 'CCAFS LC-40', 'Dragon demo flight C2', 525, 'LEO (ISS)', 'NASA (COTS)', 'Success', 'No attempt'),\n",
       " ('10/8/2012', '0:35:00', 'F9 v1.0  B0006', 'CCAFS LC-40', 'SpaceX CRS-1', 500, 'LEO (ISS)', 'NASA (CRS)', 'Success', 'No attempt'),\n",
       " ('3/1/2013', '15:10:00', 'F9 v1.0  B0007', 'CCAFS LC-40', 'SpaceX CRS-2', 677, 'LEO (ISS)', 'NASA (CRS)', 'Success', 'No attempt')]"
      ]
     },
     "execution_count": 10,
     "metadata": {},
     "output_type": "execute_result"
    }
   ],
   "source": [
    "%sql SELECT * FROM SPACEXTABLE WHERE Launch_Site LIKE 'CCA%' LIMIT 5"
   ]
  },
  {
   "cell_type": "markdown",
   "id": "f0213ca5-7c2a-4c12-8d29-735c9357a23c",
   "metadata": {},
   "source": [
    "### Task 3\n",
    "\n",
    "\n",
    "\n",
    "\n",
    "##### Display the total payload mass carried by boosters launched by NASA (CRS)\n"
   ]
  },
  {
   "cell_type": "code",
   "execution_count": 11,
   "id": "0b422efb-d74c-4a82-84dd-849e3c93f953",
   "metadata": {},
   "outputs": [
    {
     "name": "stdout",
     "output_type": "stream",
     "text": [
      " * sqlite:///my_data1.db\n",
      "Done.\n"
     ]
    },
    {
     "data": {
      "text/html": [
       "<table>\n",
       "    <thead>\n",
       "        <tr>\n",
       "            <th>SUM(PAYLOAD_MASS__KG_)</th>\n",
       "        </tr>\n",
       "    </thead>\n",
       "    <tbody>\n",
       "        <tr>\n",
       "            <td>45596</td>\n",
       "        </tr>\n",
       "    </tbody>\n",
       "</table>"
      ],
      "text/plain": [
       "[(45596,)]"
      ]
     },
     "execution_count": 11,
     "metadata": {},
     "output_type": "execute_result"
    }
   ],
   "source": [
    "%sql SELECT SUM(PAYLOAD_MASS__KG_) FROM SPACEXTABLE WHERE Customer = 'NASA (CRS)'"
   ]
  },
  {
   "cell_type": "markdown",
   "id": "c7725702-8744-47e0-96e5-9c3a8a9d79d1",
   "metadata": {},
   "source": [
    "### Task 4\n",
    "\n",
    "\n",
    "\n",
    "\n",
    "##### Display average payload mass carried by booster version F9 v1.1\n"
   ]
  },
  {
   "cell_type": "code",
   "execution_count": 12,
   "id": "1385b7f4-7cbc-464e-9255-131a44623c6e",
   "metadata": {},
   "outputs": [
    {
     "name": "stdout",
     "output_type": "stream",
     "text": [
      " * sqlite:///my_data1.db\n",
      "Done.\n"
     ]
    },
    {
     "data": {
      "text/html": [
       "<table>\n",
       "    <thead>\n",
       "        <tr>\n",
       "            <th>AVG(PAYLOAD_MASS__KG_)</th>\n",
       "        </tr>\n",
       "    </thead>\n",
       "    <tbody>\n",
       "        <tr>\n",
       "            <td>2534.6666666666665</td>\n",
       "        </tr>\n",
       "    </tbody>\n",
       "</table>"
      ],
      "text/plain": [
       "[(2534.6666666666665,)]"
      ]
     },
     "execution_count": 12,
     "metadata": {},
     "output_type": "execute_result"
    }
   ],
   "source": [
    "%sql SELECT AVG(PAYLOAD_MASS__KG_) FROM SPACEXTABLE WHERE Booster_Version LIKE 'F9 v1.1%'"
   ]
  },
  {
   "cell_type": "markdown",
   "id": "95eeca5c-b271-4bf5-a00f-6ed983b42159",
   "metadata": {},
   "source": [
    "### Task 5\n",
    "\n",
    "##### List the date when the first succesful landing outcome in ground pad was acheived.\n",
    "\n",
    "\n",
    "_Hint:Use min function_ \n"
   ]
  },
  {
   "cell_type": "code",
   "execution_count": 30,
   "id": "72d602d8-6b2b-4ec6-8b2b-f2f4b17d8e9f",
   "metadata": {},
   "outputs": [
    {
     "name": "stdout",
     "output_type": "stream",
     "text": [
      " * sqlite:///my_data1.db\n",
      "Done.\n"
     ]
    },
    {
     "data": {
      "text/html": [
       "<table>\n",
       "    <thead>\n",
       "        <tr>\n",
       "            <th>MIN(Date)</th>\n",
       "        </tr>\n",
       "    </thead>\n",
       "    <tbody>\n",
       "        <tr>\n",
       "            <td>1/8/2018</td>\n",
       "        </tr>\n",
       "    </tbody>\n",
       "</table>"
      ],
      "text/plain": [
       "[('1/8/2018',)]"
      ]
     },
     "execution_count": 30,
     "metadata": {},
     "output_type": "execute_result"
    }
   ],
   "source": [
    "%sql SELECT MIN(Date) FROM SPACEXTABLE WHERE Landing_Outcome = 'Success (ground pad)'\n",
    "# obviously the MIN function is treating Date as a string, so that is not the date of the first successful landing"
   ]
  },
  {
   "cell_type": "code",
   "execution_count": 40,
   "metadata": {},
   "outputs": [
    {
     "data": {
      "text/plain": [
       "Date   2015-12-22\n",
       "dtype: datetime64[ns]"
      ]
     },
     "execution_count": 40,
     "metadata": {},
     "output_type": "execute_result"
    }
   ],
   "source": [
    "df[df['Landing_Outcome']=='Success (ground pad)'][['Date']].min()\n",
    "# this is the right one"
   ]
  },
  {
   "cell_type": "markdown",
   "id": "f1f54320-c554-4857-9772-ac4b70cb64e0",
   "metadata": {},
   "source": [
    "### Task 6\n",
    "\n",
    "##### List the names of the boosters which have success in drone ship and have payload mass greater than 4000 but less than 6000\n"
   ]
  },
  {
   "cell_type": "code",
   "execution_count": 31,
   "id": "e4d74776-8307-4a9f-ac2e-b4343f2ea968",
   "metadata": {},
   "outputs": [
    {
     "name": "stdout",
     "output_type": "stream",
     "text": [
      " * sqlite:///my_data1.db\n",
      "Done.\n"
     ]
    },
    {
     "data": {
      "text/html": [
       "<table>\n",
       "    <thead>\n",
       "        <tr>\n",
       "            <th>Booster_Version</th>\n",
       "        </tr>\n",
       "    </thead>\n",
       "    <tbody>\n",
       "        <tr>\n",
       "            <td>F9 FT B1022</td>\n",
       "        </tr>\n",
       "        <tr>\n",
       "            <td>F9 FT B1026</td>\n",
       "        </tr>\n",
       "        <tr>\n",
       "            <td>F9 FT  B1021.2</td>\n",
       "        </tr>\n",
       "        <tr>\n",
       "            <td>F9 FT  B1031.2</td>\n",
       "        </tr>\n",
       "    </tbody>\n",
       "</table>"
      ],
      "text/plain": [
       "[('F9 FT B1022',), ('F9 FT B1026',), ('F9 FT  B1021.2',), ('F9 FT  B1031.2',)]"
      ]
     },
     "execution_count": 31,
     "metadata": {},
     "output_type": "execute_result"
    }
   ],
   "source": [
    "%sql SELECT DISTINCT Booster_Version FROM SPACEXTABLE WHERE Landing_Outcome = 'Success (drone ship)' AND PAYLOAD_MASS__KG_ >4000 AND PAYLOAD_MASS__KG_ <6000"
   ]
  },
  {
   "cell_type": "markdown",
   "id": "176bd0b9-a475-46d6-9ee3-f87c1ca34b44",
   "metadata": {},
   "source": [
    "### Task 7\n",
    "\n",
    "\n",
    "\n",
    "\n",
    "##### List the total number of successful and failure mission outcomes\n"
   ]
  },
  {
   "cell_type": "code",
   "execution_count": 15,
   "id": "483b276e-b1a0-40be-9704-5d875c52a899",
   "metadata": {},
   "outputs": [
    {
     "name": "stdout",
     "output_type": "stream",
     "text": [
      " * sqlite:///my_data1.db\n",
      "Done.\n"
     ]
    },
    {
     "data": {
      "text/html": [
       "<table>\n",
       "    <thead>\n",
       "        <tr>\n",
       "            <th>Mission_Outcome</th>\n",
       "            <th>COUNT(*)</th>\n",
       "        </tr>\n",
       "    </thead>\n",
       "    <tbody>\n",
       "        <tr>\n",
       "            <td>Failure (in flight)</td>\n",
       "            <td>1</td>\n",
       "        </tr>\n",
       "        <tr>\n",
       "            <td>Success</td>\n",
       "            <td>98</td>\n",
       "        </tr>\n",
       "        <tr>\n",
       "            <td>Success </td>\n",
       "            <td>1</td>\n",
       "        </tr>\n",
       "        <tr>\n",
       "            <td>Success (payload status unclear)</td>\n",
       "            <td>1</td>\n",
       "        </tr>\n",
       "    </tbody>\n",
       "</table>"
      ],
      "text/plain": [
       "[('Failure (in flight)', 1),\n",
       " ('Success', 98),\n",
       " ('Success ', 1),\n",
       " ('Success (payload status unclear)', 1)]"
      ]
     },
     "execution_count": 15,
     "metadata": {},
     "output_type": "execute_result"
    }
   ],
   "source": [
    "%sql SELECT Mission_Outcome, COUNT(*) FROM SPACEXTABLE GROUP BY Mission_Outcome"
   ]
  },
  {
   "cell_type": "markdown",
   "id": "7cb2edfe-19ec-4cfa-bbd3-8b1a955ffbce",
   "metadata": {},
   "source": [
    "### Task 8\n",
    "\n",
    "\n",
    "\n",
    "##### List the   names of the booster_versions which have carried the maximum payload mass. Use a subquery\n"
   ]
  },
  {
   "cell_type": "code",
   "execution_count": 16,
   "id": "66a71727-c5af-4d13-8b44-9e7bbc221f15",
   "metadata": {},
   "outputs": [
    {
     "name": "stdout",
     "output_type": "stream",
     "text": [
      " * sqlite:///my_data1.db\n",
      "Done.\n"
     ]
    },
    {
     "data": {
      "text/html": [
       "<table>\n",
       "    <thead>\n",
       "        <tr>\n",
       "            <th>Booster_Version</th>\n",
       "        </tr>\n",
       "    </thead>\n",
       "    <tbody>\n",
       "        <tr>\n",
       "            <td>F9 B5 B1048.4</td>\n",
       "        </tr>\n",
       "        <tr>\n",
       "            <td>F9 B5 B1049.4</td>\n",
       "        </tr>\n",
       "        <tr>\n",
       "            <td>F9 B5 B1051.3</td>\n",
       "        </tr>\n",
       "        <tr>\n",
       "            <td>F9 B5 B1056.4</td>\n",
       "        </tr>\n",
       "        <tr>\n",
       "            <td>F9 B5 B1048.5</td>\n",
       "        </tr>\n",
       "        <tr>\n",
       "            <td>F9 B5 B1051.4</td>\n",
       "        </tr>\n",
       "        <tr>\n",
       "            <td>F9 B5 B1049.5</td>\n",
       "        </tr>\n",
       "        <tr>\n",
       "            <td>F9 B5 B1060.2 </td>\n",
       "        </tr>\n",
       "        <tr>\n",
       "            <td>F9 B5 B1058.3 </td>\n",
       "        </tr>\n",
       "        <tr>\n",
       "            <td>F9 B5 B1051.6</td>\n",
       "        </tr>\n",
       "        <tr>\n",
       "            <td>F9 B5 B1060.3</td>\n",
       "        </tr>\n",
       "        <tr>\n",
       "            <td>F9 B5 B1049.7 </td>\n",
       "        </tr>\n",
       "    </tbody>\n",
       "</table>"
      ],
      "text/plain": [
       "[('F9 B5 B1048.4',),\n",
       " ('F9 B5 B1049.4',),\n",
       " ('F9 B5 B1051.3',),\n",
       " ('F9 B5 B1056.4',),\n",
       " ('F9 B5 B1048.5',),\n",
       " ('F9 B5 B1051.4',),\n",
       " ('F9 B5 B1049.5',),\n",
       " ('F9 B5 B1060.2 ',),\n",
       " ('F9 B5 B1058.3 ',),\n",
       " ('F9 B5 B1051.6',),\n",
       " ('F9 B5 B1060.3',),\n",
       " ('F9 B5 B1049.7 ',)]"
      ]
     },
     "execution_count": 16,
     "metadata": {},
     "output_type": "execute_result"
    }
   ],
   "source": [
    "%%sql\n",
    "SELECT DISTINCT Booster_Version FROM SPACEXTABLE WHERE PAYLOAD_MASS__KG_ IN (\n",
    "SELECT MAX(PAYLOAD_MASS__KG_) FROM SPACEXTABLE\n",
    ")"
   ]
  },
  {
   "cell_type": "markdown",
   "id": "f2a5bb8d-f2b8-418f-87a7-201299f46aa8",
   "metadata": {},
   "source": [
    "### Task 9\n",
    "\n",
    "\n",
    "##### List the records which will display the month names, failure landing_outcomes in drone ship ,booster versions, launch_site for the months in year 2015.\n",
    "\n",
    "**Note: SQLLite does not support monthnames. So you need to use  substr(Date, 6,2) as month to get the months and substr(Date,0,5)='2015' for year.**\n"
   ]
  },
  {
   "cell_type": "code",
   "execution_count": 27,
   "id": "d825e362-9b2b-4042-bc0c-c437299f75d1",
   "metadata": {},
   "outputs": [
    {
     "name": "stdout",
     "output_type": "stream",
     "text": [
      " * sqlite:///my_data1.db\n",
      "Done.\n"
     ]
    },
    {
     "data": {
      "text/html": [
       "<table>\n",
       "    <thead>\n",
       "        <tr>\n",
       "            <th>Month</th>\n",
       "            <th>Landing_Outcome</th>\n",
       "            <th>Booster_Version</th>\n",
       "            <th>Launch_Site</th>\n",
       "        </tr>\n",
       "    </thead>\n",
       "    <tbody>\n",
       "        <tr>\n",
       "            <td>10</td>\n",
       "            <td>Failure (drone ship)</td>\n",
       "            <td>F9 v1.1 B1012</td>\n",
       "            <td>CCAFS LC-40</td>\n",
       "        </tr>\n",
       "        <tr>\n",
       "            <td>11</td>\n",
       "            <td>Controlled (ocean)</td>\n",
       "            <td>F9 v1.1 B1013</td>\n",
       "            <td>CCAFS LC-40</td>\n",
       "        </tr>\n",
       "        <tr>\n",
       "            <td>/2</td>\n",
       "            <td>No attempt</td>\n",
       "            <td>F9 v1.1 B1014</td>\n",
       "            <td>CCAFS LC-40</td>\n",
       "        </tr>\n",
       "        <tr>\n",
       "            <td>04</td>\n",
       "            <td>Failure (drone ship)</td>\n",
       "            <td>F9 v1.1 B1015</td>\n",
       "            <td>CCAFS LC-40</td>\n",
       "        </tr>\n",
       "        <tr>\n",
       "            <td>04</td>\n",
       "            <td>No attempt</td>\n",
       "            <td>F9 v1.1 B1016</td>\n",
       "            <td>CCAFS LC-40</td>\n",
       "        </tr>\n",
       "        <tr>\n",
       "            <td>06</td>\n",
       "            <td>Precluded (drone ship)</td>\n",
       "            <td>F9 v1.1 B1018</td>\n",
       "            <td>CCAFS LC-40</td>\n",
       "        </tr>\n",
       "        <tr>\n",
       "            <td>12</td>\n",
       "            <td>Success (ground pad)</td>\n",
       "            <td>F9 FT B1019</td>\n",
       "            <td>CCAFS LC-40</td>\n",
       "        </tr>\n",
       "    </tbody>\n",
       "</table>"
      ],
      "text/plain": [
       "[('10', 'Failure (drone ship)', 'F9 v1.1 B1012', 'CCAFS LC-40'),\n",
       " ('11', 'Controlled (ocean)', 'F9 v1.1 B1013', 'CCAFS LC-40'),\n",
       " ('/2', 'No attempt', 'F9 v1.1 B1014', 'CCAFS LC-40'),\n",
       " ('04', 'Failure (drone ship)', 'F9 v1.1 B1015', 'CCAFS LC-40'),\n",
       " ('04', 'No attempt', 'F9 v1.1 B1016', 'CCAFS LC-40'),\n",
       " ('06', 'Precluded (drone ship)', 'F9 v1.1 B1018', 'CCAFS LC-40'),\n",
       " ('12', 'Success (ground pad)', 'F9 FT B1019', 'CCAFS LC-40')]"
      ]
     },
     "execution_count": 27,
     "metadata": {},
     "output_type": "execute_result"
    }
   ],
   "source": [
    "%%sql\n",
    "SELECT substr(Date, -7,2) AS Month, Landing_Outcome, Booster_Version, Launch_Site FROM SPACEXTABLE WHERE substr(Date,-4,5)='2015' "
   ]
  },
  {
   "cell_type": "code",
   "execution_count": 45,
   "metadata": {},
   "outputs": [],
   "source": [
    "df['Year']=df['Date'].dt.year\n",
    "df['Month']=df['Date'].dt.month"
   ]
  },
  {
   "cell_type": "code",
   "execution_count": 46,
   "metadata": {},
   "outputs": [
    {
     "data": {
      "text/html": [
       "<div>\n",
       "<style scoped>\n",
       "    .dataframe tbody tr th:only-of-type {\n",
       "        vertical-align: middle;\n",
       "    }\n",
       "\n",
       "    .dataframe tbody tr th {\n",
       "        vertical-align: top;\n",
       "    }\n",
       "\n",
       "    .dataframe thead th {\n",
       "        text-align: right;\n",
       "    }\n",
       "</style>\n",
       "<table border=\"1\" class=\"dataframe\">\n",
       "  <thead>\n",
       "    <tr style=\"text-align: right;\">\n",
       "      <th></th>\n",
       "      <th>Month</th>\n",
       "      <th>Landing_Outcome</th>\n",
       "      <th>Booster_Version</th>\n",
       "      <th>Launch_Site</th>\n",
       "    </tr>\n",
       "  </thead>\n",
       "  <tbody>\n",
       "    <tr>\n",
       "      <th>13</th>\n",
       "      <td>10</td>\n",
       "      <td>Failure (drone ship)</td>\n",
       "      <td>F9 v1.1 B1012</td>\n",
       "      <td>CCAFS LC-40</td>\n",
       "    </tr>\n",
       "    <tr>\n",
       "      <th>14</th>\n",
       "      <td>11</td>\n",
       "      <td>Controlled (ocean)</td>\n",
       "      <td>F9 v1.1 B1013</td>\n",
       "      <td>CCAFS LC-40</td>\n",
       "    </tr>\n",
       "    <tr>\n",
       "      <th>15</th>\n",
       "      <td>2</td>\n",
       "      <td>No attempt</td>\n",
       "      <td>F9 v1.1 B1014</td>\n",
       "      <td>CCAFS LC-40</td>\n",
       "    </tr>\n",
       "    <tr>\n",
       "      <th>16</th>\n",
       "      <td>4</td>\n",
       "      <td>Failure (drone ship)</td>\n",
       "      <td>F9 v1.1 B1015</td>\n",
       "      <td>CCAFS LC-40</td>\n",
       "    </tr>\n",
       "    <tr>\n",
       "      <th>17</th>\n",
       "      <td>4</td>\n",
       "      <td>No attempt</td>\n",
       "      <td>F9 v1.1 B1016</td>\n",
       "      <td>CCAFS LC-40</td>\n",
       "    </tr>\n",
       "    <tr>\n",
       "      <th>18</th>\n",
       "      <td>6</td>\n",
       "      <td>Precluded (drone ship)</td>\n",
       "      <td>F9 v1.1 B1018</td>\n",
       "      <td>CCAFS LC-40</td>\n",
       "    </tr>\n",
       "    <tr>\n",
       "      <th>19</th>\n",
       "      <td>12</td>\n",
       "      <td>Success (ground pad)</td>\n",
       "      <td>F9 FT B1019</td>\n",
       "      <td>CCAFS LC-40</td>\n",
       "    </tr>\n",
       "  </tbody>\n",
       "</table>\n",
       "</div>"
      ],
      "text/plain": [
       "    Month         Landing_Outcome Booster_Version  Launch_Site\n",
       "13     10    Failure (drone ship)   F9 v1.1 B1012  CCAFS LC-40\n",
       "14     11      Controlled (ocean)   F9 v1.1 B1013  CCAFS LC-40\n",
       "15      2              No attempt   F9 v1.1 B1014  CCAFS LC-40\n",
       "16      4    Failure (drone ship)   F9 v1.1 B1015  CCAFS LC-40\n",
       "17      4              No attempt   F9 v1.1 B1016  CCAFS LC-40\n",
       "18      6  Precluded (drone ship)   F9 v1.1 B1018  CCAFS LC-40\n",
       "19     12    Success (ground pad)     F9 FT B1019  CCAFS LC-40"
      ]
     },
     "execution_count": 46,
     "metadata": {},
     "output_type": "execute_result"
    }
   ],
   "source": [
    "df[df['Year']==2015][['Month', 'Landing_Outcome','Booster_Version','Launch_Site']] #this is better"
   ]
  },
  {
   "cell_type": "code",
   "execution_count": 41,
   "metadata": {},
   "outputs": [
    {
     "data": {
      "text/html": [
       "<div>\n",
       "<style scoped>\n",
       "    .dataframe tbody tr th:only-of-type {\n",
       "        vertical-align: middle;\n",
       "    }\n",
       "\n",
       "    .dataframe tbody tr th {\n",
       "        vertical-align: top;\n",
       "    }\n",
       "\n",
       "    .dataframe thead th {\n",
       "        text-align: right;\n",
       "    }\n",
       "</style>\n",
       "<table border=\"1\" class=\"dataframe\">\n",
       "  <thead>\n",
       "    <tr style=\"text-align: right;\">\n",
       "      <th></th>\n",
       "      <th>Date</th>\n",
       "      <th>Time (UTC)</th>\n",
       "      <th>Booster_Version</th>\n",
       "      <th>Launch_Site</th>\n",
       "      <th>Payload</th>\n",
       "      <th>PAYLOAD_MASS__KG_</th>\n",
       "      <th>Orbit</th>\n",
       "      <th>Customer</th>\n",
       "      <th>Mission_Outcome</th>\n",
       "      <th>Landing_Outcome</th>\n",
       "    </tr>\n",
       "  </thead>\n",
       "  <tbody>\n",
       "    <tr>\n",
       "      <th>0</th>\n",
       "      <td>2010-04-06</td>\n",
       "      <td>18:45:00</td>\n",
       "      <td>F9 v1.0  B0003</td>\n",
       "      <td>CCAFS LC-40</td>\n",
       "      <td>Dragon Spacecraft Qualification Unit</td>\n",
       "      <td>0</td>\n",
       "      <td>LEO</td>\n",
       "      <td>SpaceX</td>\n",
       "      <td>Success</td>\n",
       "      <td>Failure (parachute)</td>\n",
       "    </tr>\n",
       "  </tbody>\n",
       "</table>\n",
       "</div>"
      ],
      "text/plain": [
       "        Date Time (UTC) Booster_Version  Launch_Site  \\\n",
       "0 2010-04-06   18:45:00  F9 v1.0  B0003  CCAFS LC-40   \n",
       "\n",
       "                                Payload  PAYLOAD_MASS__KG_ Orbit Customer  \\\n",
       "0  Dragon Spacecraft Qualification Unit                  0   LEO   SpaceX   \n",
       "\n",
       "  Mission_Outcome      Landing_Outcome  \n",
       "0         Success  Failure (parachute)  "
      ]
     },
     "execution_count": 41,
     "metadata": {},
     "output_type": "execute_result"
    }
   ],
   "source": [
    "df.head(1)"
   ]
  },
  {
   "cell_type": "markdown",
   "id": "97f4fa98-43e5-44d6-864a-2e50e8998669",
   "metadata": {},
   "source": [
    "### Task 10\n",
    "\n",
    "\n",
    "\n",
    "\n",
    "##### Rank the count of landing outcomes (such as Failure (drone ship) or Success (ground pad)) between the date 2010-06-04 and 2017-03-20, in descending order.\n"
   ]
  },
  {
   "cell_type": "code",
   "execution_count": 52,
   "id": "1819b70d-2127-477e-b14b-aeb287e23340",
   "metadata": {},
   "outputs": [
    {
     "data": {
      "text/html": [
       "<div>\n",
       "<style scoped>\n",
       "    .dataframe tbody tr th:only-of-type {\n",
       "        vertical-align: middle;\n",
       "    }\n",
       "\n",
       "    .dataframe tbody tr th {\n",
       "        vertical-align: top;\n",
       "    }\n",
       "\n",
       "    .dataframe thead th {\n",
       "        text-align: right;\n",
       "    }\n",
       "</style>\n",
       "<table border=\"1\" class=\"dataframe\">\n",
       "  <thead>\n",
       "    <tr style=\"text-align: right;\">\n",
       "      <th></th>\n",
       "      <th>Landing_Outcome</th>\n",
       "    </tr>\n",
       "  </thead>\n",
       "  <tbody>\n",
       "    <tr>\n",
       "      <th>3</th>\n",
       "      <td>No attempt</td>\n",
       "    </tr>\n",
       "    <tr>\n",
       "      <th>1</th>\n",
       "      <td>Failure (drone ship)</td>\n",
       "    </tr>\n",
       "    <tr>\n",
       "      <th>5</th>\n",
       "      <td>Success (drone ship)</td>\n",
       "    </tr>\n",
       "    <tr>\n",
       "      <th>6</th>\n",
       "      <td>Success (ground pad)</td>\n",
       "    </tr>\n",
       "    <tr>\n",
       "      <th>0</th>\n",
       "      <td>Controlled (ocean)</td>\n",
       "    </tr>\n",
       "    <tr>\n",
       "      <th>7</th>\n",
       "      <td>Uncontrolled (ocean)</td>\n",
       "    </tr>\n",
       "    <tr>\n",
       "      <th>2</th>\n",
       "      <td>Failure (parachute)</td>\n",
       "    </tr>\n",
       "    <tr>\n",
       "      <th>4</th>\n",
       "      <td>Precluded (drone ship)</td>\n",
       "    </tr>\n",
       "  </tbody>\n",
       "</table>\n",
       "</div>"
      ],
      "text/plain": [
       "          Landing_Outcome\n",
       "3              No attempt\n",
       "1    Failure (drone ship)\n",
       "5    Success (drone ship)\n",
       "6    Success (ground pad)\n",
       "0      Controlled (ocean)\n",
       "7    Uncontrolled (ocean)\n",
       "2     Failure (parachute)\n",
       "4  Precluded (drone ship)"
      ]
     },
     "execution_count": 52,
     "metadata": {},
     "output_type": "execute_result"
    }
   ],
   "source": [
    "df[(df['Date']>'2010-06-04') & (df['Date']<'2017-03-20')].groupby('Landing_Outcome').count().reset_index().sort_values(by=['Date'], ascending = False)[['Landing_Outcome']]"
   ]
  },
  {
   "cell_type": "markdown",
   "id": "369b734d-8a73-43d5-be7a-4d0f6ae68e80",
   "metadata": {},
   "source": [
    "### Reference Links\n",
    "\n",
    "* <a href =\"https://cf-courses-data.s3.us.cloud-object-storage.appdomain.cloud/IBMDeveloperSkillsNetwork-DB0201EN-SkillsNetwork/labs/Labs_Coursera_V5/labs/Lab%20-%20String%20Patterns%20-%20Sorting%20-%20Grouping/instructional-labs.md.html?origin=www.coursera.org\">Hands-on Lab : String Patterns, Sorting and Grouping</a>  \n",
    "\n",
    "*  <a  href=\"https://cf-courses-data.s3.us.cloud-object-storage.appdomain.cloud/IBMDeveloperSkillsNetwork-DB0201EN-SkillsNetwork/labs/Labs_Coursera_V5/labs/Lab%20-%20Built-in%20functions%20/Hands-on_Lab__Built-in_Functions.md.html?origin=www.coursera.org\">Hands-on Lab: Built-in functions</a>\n",
    "\n",
    "*  <a  href=\"https://cf-courses-data.s3.us.cloud-object-storage.appdomain.cloud/IBMDeveloperSkillsNetwork-DB0201EN-SkillsNetwork/labs/Labs_Coursera_V5/labs/Lab%20-%20Sub-queries%20and%20Nested%20SELECTs%20/instructional-labs.md.html?origin=www.coursera.org\">Hands-on Lab : Sub-queries and Nested SELECT Statements</a>\n",
    "\n",
    "*   <a href=\"https://cf-courses-data.s3.us.cloud-object-storage.appdomain.cloud/IBMDeveloperSkillsNetwork-DB0201EN-SkillsNetwork/labs/Module%205/DB0201EN-Week3-1-3-SQLmagic.ipynb\">Hands-on Tutorial: Accessing Databases with SQL magic</a>\n",
    "\n",
    "*  <a href= \"https://cf-courses-data.s3.us.cloud-object-storage.appdomain.cloud/IBMDeveloperSkillsNetwork-DB0201EN-SkillsNetwork/labs/Module%205/DB0201EN-Week3-1-4-Analyzing.ipynb\">Hands-on Lab: Analyzing a real World Data Set</a>\n",
    "\n",
    "\n"
   ]
  },
  {
   "cell_type": "markdown",
   "id": "20bdb20c-ddc5-4fe4-9a71-ae6a8f0d04de",
   "metadata": {},
   "source": [
    "## Author(s)\n",
    "\n",
    "<h4> Lakshmi Holla </h4>\n"
   ]
  },
  {
   "cell_type": "markdown",
   "id": "1045ef54-689c-428e-b324-13164590e03f",
   "metadata": {},
   "source": [
    "## Other Contributors\n",
    "\n",
    "<h4> Rav Ahuja </h4>\n"
   ]
  },
  {
   "cell_type": "markdown",
   "id": "9f0669e6-1db0-425b-9db9-3668b601d595",
   "metadata": {},
   "source": [
    "## Change log\n",
    "| Date | Version | Changed by | Change Description |\n",
    "|------|--------|--------|---------|\n",
    "| 2021-07-09 | 0.2 |Lakshmi Holla | Changes made in magic sql|\n",
    "| 2021-05-20 | 0.1 |Lakshmi Holla | Created Initial Version |\n"
   ]
  },
  {
   "cell_type": "markdown",
   "id": "2dca8f50-a815-4426-a758-e034f0603d1b",
   "metadata": {},
   "source": [
    "## <h3 align=\"center\"> © IBM Corporation 2021. All rights reserved. <h3/>\n"
   ]
  }
 ],
 "metadata": {
  "kernelspec": {
   "display_name": "Python 3 (ipykernel)",
   "language": "python",
   "name": "python3"
  },
  "language_info": {
   "codemirror_mode": {
    "name": "ipython",
    "version": 3
   },
   "file_extension": ".py",
   "mimetype": "text/x-python",
   "name": "python",
   "nbconvert_exporter": "python",
   "pygments_lexer": "ipython3",
   "version": "3.11.4"
  }
 },
 "nbformat": 4,
 "nbformat_minor": 4
}
